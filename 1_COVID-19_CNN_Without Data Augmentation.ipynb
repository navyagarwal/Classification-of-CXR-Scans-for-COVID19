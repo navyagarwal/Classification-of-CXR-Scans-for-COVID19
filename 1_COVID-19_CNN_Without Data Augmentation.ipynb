{
 "cells": [
  {
   "cell_type": "markdown",
   "id": "adbd667a",
   "metadata": {},
   "source": [
    "## IMPORTING REQUIRED PACKAGES"
   ]
  },
  {
   "cell_type": "code",
   "execution_count": 1,
   "id": "6d80e63d",
   "metadata": {},
   "outputs": [],
   "source": [
    "import os\n",
    "import numpy as np\n",
    "import pandas as pd\n",
    "import matplotlib.pyplot as plt\n",
    "import cv2\n",
    "import tensorflow as tf\n",
    "from tensorflow.keras.models import Sequential, load_model\n",
    "from tensorflow.keras import regularizers\n",
    "from tensorflow.keras.layers import Conv2D, MaxPooling2D, Flatten, Dense, Dropout\n",
    "from tensorflow.keras.callbacks import EarlyStopping\n",
    "from tensorflow.keras.preprocessing.image import ImageDataGenerator\n",
    "from sklearn.model_selection import train_test_split\n",
    "from sklearn.metrics import confusion_matrix, accuracy_score\n",
    "import seaborn as sns"
   ]
  },
  {
   "cell_type": "markdown",
   "id": "b7e45587",
   "metadata": {},
   "source": [
    "## DATA LOADING AND PRE-PROCESSING"
   ]
  },
  {
   "cell_type": "code",
   "execution_count": 2,
   "id": "cbca1949",
   "metadata": {},
   "outputs": [],
   "source": [
    "# path => address of folder with images\n",
    "# urls => list of names of images inside the folder\n",
    "# target => target label for images\n",
    "\n",
    "def loadImages(path, urls, target):\n",
    "    images = []\n",
    "    labels = []\n",
    "    for i in range(len(urls)):\n",
    "        img_path = path + urls[i]\n",
    "        img = cv2.imread(img_path)\n",
    "        img = img / 255.0   # normalisation of images\n",
    "        img = cv2.resize(img, (100, 100))  # to resize the images\n",
    "        images.append(img)\n",
    "        labels.append(target)\n",
    "    images = np.asarray(images)  # converting list to numpy array as it offers more functionality\n",
    "    return images, labels"
   ]
  },
  {
   "cell_type": "code",
   "execution_count": 3,
   "id": "7fdbe39b",
   "metadata": {},
   "outputs": [],
   "source": [
    "covid_path = \"Covid-19_Radiography_Dataset\\\\COVID\\\\images\\\\\"\n",
    "covid_url = os.listdir(\"Covid-19_Radiography_Dataset\\\\COVID\\\\images\\\\\")\n",
    "covidImages, covidTargets = loadImages(covid_path, covid_url, 1)\n",
    "\n",
    "viral_path = \"Covid-19_Radiography_Dataset\\\\Viral Pneumonia\\\\images\\\\\"\n",
    "viral_url = os.listdir(\"Covid-19_Radiography_Dataset\\\\Viral Pneumonia\\\\images\\\\\")\n",
    "viralImages, viralTargets = loadImages(viral_path, viral_url, 2)\n",
    "\n",
    "normal_path = \"Covid-19_Radiography_Dataset\\\\Normal\\\\images\\\\\"\n",
    "normal_url = os.listdir(\"Covid-19_Radiography_Dataset\\\\Normal\\\\images\\\\\")\n",
    "normalImages, normalTargets = loadImages(normal_path, normal_url, 0)"
   ]
  },
  {
   "cell_type": "code",
   "execution_count": 4,
   "id": "bd741387",
   "metadata": {},
   "outputs": [
    {
     "data": {
      "text/plain": [
       "((15153, 100, 100, 3), (15153,))"
      ]
     },
     "execution_count": 4,
     "metadata": {},
     "output_type": "execute_result"
    }
   ],
   "source": [
    "data = np.r_[covidImages, viralImages, normalImages]\n",
    "\n",
    "targets = np.r_[covidTargets, viralTargets, normalTargets]\n",
    "\n",
    "data.shape, targets.shape"
   ]
  },
  {
   "cell_type": "code",
   "execution_count": 5,
   "id": "9da4af2e",
   "metadata": {},
   "outputs": [],
   "source": [
    "x_train, x_test, y_train, y_test = train_test_split(data, targets, test_size = 0.2)\n",
    "x_train, x_val, y_train, y_val = train_test_split(x_train, y_train, test_size = 0.125)"
   ]
  },
  {
   "cell_type": "code",
   "execution_count": 6,
   "id": "55de099f",
   "metadata": {},
   "outputs": [
    {
     "name": "stdout",
     "output_type": "stream",
     "text": [
      "(10606, 100, 100, 3) (10606,)\n",
      "(1516, 100, 100, 3) (1516,)\n",
      "(3031, 100, 100, 3) (3031,)\n"
     ]
    }
   ],
   "source": [
    "print(x_train.shape, y_train.shape)\n",
    "print(x_val.shape, y_val.shape)\n",
    "print(x_test.shape, y_test.shape)"
   ]
  },
  {
   "cell_type": "markdown",
   "id": "c7056e4f",
   "metadata": {},
   "source": [
    "## BUILDING A MODEL"
   ]
  },
  {
   "cell_type": "code",
   "execution_count": 7,
   "id": "b486e3ef",
   "metadata": {},
   "outputs": [],
   "source": [
    "model = Sequential([\n",
    "    Conv2D(32, (3, 3), input_shape=(100, 100, 3), activation = 'relu', kernel_regularizer=regularizers.l2(l=0.01), kernel_initializer='he_normal'),\n",
    "    MaxPooling2D(),\n",
    "    Dropout(0.4),\n",
    "    Conv2D(16, (3, 3), activation = 'relu', kernel_regularizer=regularizers.l2(l=0.01)),\n",
    "    MaxPooling2D(),\n",
    "    Dropout(0.4),\n",
    "    Conv2D(16, (3, 3), activation = 'relu', kernel_regularizer=regularizers.l2(l=0.01)),\n",
    "    MaxPooling2D(),\n",
    "    Dropout(0.2),\n",
    "    Flatten(),\n",
    "    Dense(512, activation = 'relu'),\n",
    "    Dense(256, activation = 'relu'),\n",
    "    Dense(3, activation = 'softmax')\n",
    "])"
   ]
  },
  {
   "cell_type": "code",
   "execution_count": 8,
   "id": "0b65b7ef",
   "metadata": {},
   "outputs": [
    {
     "name": "stdout",
     "output_type": "stream",
     "text": [
      "Model: \"sequential\"\n",
      "_________________________________________________________________\n",
      " Layer (type)                Output Shape              Param #   \n",
      "=================================================================\n",
      " conv2d (Conv2D)             (None, 98, 98, 32)        896       \n",
      "                                                                 \n",
      " max_pooling2d (MaxPooling2D  (None, 49, 49, 32)       0         \n",
      " )                                                               \n",
      "                                                                 \n",
      " dropout (Dropout)           (None, 49, 49, 32)        0         \n",
      "                                                                 \n",
      " conv2d_1 (Conv2D)           (None, 47, 47, 16)        4624      \n",
      "                                                                 \n",
      " max_pooling2d_1 (MaxPooling  (None, 23, 23, 16)       0         \n",
      " 2D)                                                             \n",
      "                                                                 \n",
      " dropout_1 (Dropout)         (None, 23, 23, 16)        0         \n",
      "                                                                 \n",
      " conv2d_2 (Conv2D)           (None, 21, 21, 16)        2320      \n",
      "                                                                 \n",
      " max_pooling2d_2 (MaxPooling  (None, 10, 10, 16)       0         \n",
      " 2D)                                                             \n",
      "                                                                 \n",
      " dropout_2 (Dropout)         (None, 10, 10, 16)        0         \n",
      "                                                                 \n",
      " flatten (Flatten)           (None, 1600)              0         \n",
      "                                                                 \n",
      " dense (Dense)               (None, 512)               819712    \n",
      "                                                                 \n",
      " dense_1 (Dense)             (None, 256)               131328    \n",
      "                                                                 \n",
      " dense_2 (Dense)             (None, 3)                 771       \n",
      "                                                                 \n",
      "=================================================================\n",
      "Total params: 959,651\n",
      "Trainable params: 959,651\n",
      "Non-trainable params: 0\n",
      "_________________________________________________________________\n"
     ]
    }
   ],
   "source": [
    "model.summary()"
   ]
  },
  {
   "cell_type": "code",
   "execution_count": 9,
   "id": "5e9ef015",
   "metadata": {},
   "outputs": [],
   "source": [
    "model.compile(optimizer = 'adam', loss = tf.keras.losses.SparseCategoricalCrossentropy() , metrics = ['accuracy'])"
   ]
  },
  {
   "cell_type": "markdown",
   "id": "d94000a5",
   "metadata": {},
   "source": [
    "## TRAINING THE MODEL"
   ]
  },
  {
   "cell_type": "code",
   "execution_count": 10,
   "id": "cb8b1866",
   "metadata": {},
   "outputs": [
    {
     "name": "stdout",
     "output_type": "stream",
     "text": [
      "Epoch 1/50\n",
      "166/166 [==============================] - 103s 595ms/step - loss: 1.6237 - accuracy: 0.6792 - val_loss: 1.4173 - val_accuracy: 0.7375\n",
      "Epoch 2/50\n",
      "166/166 [==============================] - 92s 554ms/step - loss: 1.0733 - accuracy: 0.7468 - val_loss: 1.1436 - val_accuracy: 0.7810\n",
      "Epoch 3/50\n",
      "166/166 [==============================] - 98s 593ms/step - loss: 0.8603 - accuracy: 0.7787 - val_loss: 0.9315 - val_accuracy: 0.7573\n",
      "Epoch 4/50\n",
      "166/166 [==============================] - 94s 568ms/step - loss: 0.7120 - accuracy: 0.8045 - val_loss: 0.7609 - val_accuracy: 0.8199\n",
      "Epoch 5/50\n",
      "166/166 [==============================] - 84s 505ms/step - loss: 0.6013 - accuracy: 0.8276 - val_loss: 0.6189 - val_accuracy: 0.8509\n",
      "Epoch 6/50\n",
      "166/166 [==============================] - 86s 520ms/step - loss: 0.5143 - accuracy: 0.8492 - val_loss: 0.5632 - val_accuracy: 0.8555\n",
      "Epoch 7/50\n",
      "166/166 [==============================] - 81s 486ms/step - loss: 0.4646 - accuracy: 0.8573 - val_loss: 0.4802 - val_accuracy: 0.8740\n",
      "Epoch 8/50\n",
      "166/166 [==============================] - 80s 482ms/step - loss: 0.4179 - accuracy: 0.8736 - val_loss: 0.4303 - val_accuracy: 0.8773\n",
      "Epoch 9/50\n",
      "166/166 [==============================] - 80s 481ms/step - loss: 0.3931 - accuracy: 0.8804 - val_loss: 0.4525 - val_accuracy: 0.8668\n",
      "Epoch 10/50\n",
      "166/166 [==============================] - 85s 512ms/step - loss: 0.3648 - accuracy: 0.8872 - val_loss: 0.4306 - val_accuracy: 0.8555\n",
      "Epoch 11/50\n",
      "166/166 [==============================] - 79s 475ms/step - loss: 0.3506 - accuracy: 0.8910 - val_loss: 0.4193 - val_accuracy: 0.8661\n",
      "Epoch 12/50\n",
      "166/166 [==============================] - 80s 480ms/step - loss: 0.3315 - accuracy: 0.8956 - val_loss: 0.3448 - val_accuracy: 0.8879\n",
      "Epoch 13/50\n",
      "166/166 [==============================] - 85s 511ms/step - loss: 0.3138 - accuracy: 0.9023 - val_loss: 0.3285 - val_accuracy: 0.8971\n",
      "Epoch 14/50\n",
      "166/166 [==============================] - 86s 520ms/step - loss: 0.3041 - accuracy: 0.9045 - val_loss: 0.3565 - val_accuracy: 0.8819\n",
      "Epoch 15/50\n",
      "166/166 [==============================] - 88s 531ms/step - loss: 0.2831 - accuracy: 0.9145 - val_loss: 0.2945 - val_accuracy: 0.9189\n",
      "Epoch 16/50\n",
      "166/166 [==============================] - 86s 516ms/step - loss: 0.2813 - accuracy: 0.9108 - val_loss: 0.3070 - val_accuracy: 0.9169\n",
      "Epoch 17/50\n",
      "166/166 [==============================] - 80s 484ms/step - loss: 0.2693 - accuracy: 0.9157 - val_loss: 0.3264 - val_accuracy: 0.8912\n",
      "Epoch 18/50\n",
      "166/166 [==============================] - 77s 463ms/step - loss: 0.2549 - accuracy: 0.9206 - val_loss: 0.2835 - val_accuracy: 0.9063\n",
      "Epoch 19/50\n",
      "166/166 [==============================] - 78s 469ms/step - loss: 0.2408 - accuracy: 0.9261 - val_loss: 0.2661 - val_accuracy: 0.9162\n",
      "Epoch 20/50\n",
      "166/166 [==============================] - 78s 467ms/step - loss: 0.2347 - accuracy: 0.9314 - val_loss: 0.3462 - val_accuracy: 0.8885\n",
      "Epoch 21/50\n",
      "166/166 [==============================] - 77s 464ms/step - loss: 0.2280 - accuracy: 0.9315 - val_loss: 0.3224 - val_accuracy: 0.8839\n",
      "Epoch 22/50\n",
      "166/166 [==============================] - 78s 468ms/step - loss: 0.2118 - accuracy: 0.9370 - val_loss: 0.2541 - val_accuracy: 0.9215\n",
      "Epoch 23/50\n",
      "166/166 [==============================] - 77s 463ms/step - loss: 0.2141 - accuracy: 0.9395 - val_loss: 0.3040 - val_accuracy: 0.9050\n",
      "Epoch 24/50\n",
      "166/166 [==============================] - 78s 470ms/step - loss: 0.2137 - accuracy: 0.9359 - val_loss: 0.3335 - val_accuracy: 0.9030\n",
      "Epoch 25/50\n",
      "166/166 [==============================] - 76s 456ms/step - loss: 0.1975 - accuracy: 0.9451 - val_loss: 0.2685 - val_accuracy: 0.9169\n",
      "Epoch 25: early stopping\n"
     ]
    },
    {
     "data": {
      "text/plain": [
       "<keras.callbacks.History at 0x192dcf40970>"
      ]
     },
     "execution_count": 10,
     "metadata": {},
     "output_type": "execute_result"
    }
   ],
   "source": [
    "callback = tf.keras.callbacks.EarlyStopping(monitor = 'val_loss', mode = 'min', verbose = 1, patience = 3)\n",
    "\n",
    "model.fit(x_train, y_train, batch_size = 64, epochs = 50, validation_data = (x_val, y_val), callbacks = [callback])"
   ]
  },
  {
   "cell_type": "code",
   "execution_count": 11,
   "id": "9868410f",
   "metadata": {},
   "outputs": [],
   "source": [
    "model.save(\"Covid19_CNN_3.h5\")"
   ]
  },
  {
   "cell_type": "markdown",
   "id": "b1a70445",
   "metadata": {},
   "source": [
    "## ACCURACY & LOSS FOR MODEL"
   ]
  },
  {
   "cell_type": "code",
   "execution_count": 12,
   "id": "c50fc0bf",
   "metadata": {},
   "outputs": [
    {
     "data": {
      "image/png": "[encoded data removed]",
      "text/plain": [
       "<Figure size 432x288 with 1 Axes>"
      ]
     },
     "metadata": {
      "needs_background": "light"
     },
     "output_type": "display_data"
    }
   ],
   "source": [
    "plt.plot(model.history.history['accuracy'], label = 'train_accuracy')\n",
    "plt.plot(model.history.history['val_accuracy'], label = 'val_accuracy')\n",
    "plt.legend()\n",
    "plt.show()"
   ]
  },
  {
   "cell_type": "code",
   "execution_count": 13,
   "id": "cad4247d",
   "metadata": {},
   "outputs": [
    {
     "data": {
      "image/png": "[encoded data removed]",
      "text/plain": [
       "<Figure size 432x288 with 1 Axes>"
      ]
     },
     "metadata": {
      "needs_background": "light"
     },
     "output_type": "display_data"
    }
   ],
   "source": [
    "plt.plot(model.history.history['loss'], label = 'train_loss')\n",
    "plt.plot(model.history.history['val_loss'], label = 'val_loss')\n",
    "plt.legend()\n",
    "plt.show()"
   ]
  },
  {
   "cell_type": "markdown",
   "id": "2d70ed52",
   "metadata": {},
   "source": [
    "## TESTING THE MODEL"
   ]
  },
  {
   "cell_type": "code",
   "execution_count": 14,
   "id": "28cd919f",
   "metadata": {},
   "outputs": [
    {
     "name": "stdout",
     "output_type": "stream",
     "text": [
      "95/95 [==============================] - 6s 53ms/step\n"
     ]
    }
   ],
   "source": [
    "rerun_model = load_model(\"Covid19_CNN_3.h5\")\n",
    "\n",
    "y_pred = rerun_model.predict(x_test)\n",
    "y_pred = np.argmax(y_pred, axis=-1)"
   ]
  },
  {
   "cell_type": "code",
   "execution_count": 16,
   "id": "aab2d05d",
   "metadata": {},
   "outputs": [
    {
     "data": {
      "image/png": "[encoded data removed]",
      "text/plain": [
       "<Figure size 360x288 with 2 Axes>"
      ]
     },
     "metadata": {
      "needs_background": "light"
     },
     "output_type": "display_data"
    }
   ],
   "source": [
    "cm = confusion_matrix(y_test, y_pred)\n",
    "\n",
    "cm_df = pd.DataFrame(cm,\n",
    "                     index = ['Normal','COVID','Viral Pneumonia'], \n",
    "                     columns = ['Normal','COVID','Viral Pneumonia'])\n",
    "\n",
    "plt.figure(figsize=(5,4))\n",
    "sns.heatmap(cm_df, annot=True, cmap=\"OrRd\", fmt='g')\n",
    "plt.title('Confusion Matrix')\n",
    "plt.ylabel('Actual Values')\n",
    "plt.xlabel('Predicted Values')\n",
    "plt.show()"
   ]
  },
  {
   "cell_type": "code",
   "execution_count": 15,
   "id": "67fd9e2e",
   "metadata": {},
   "outputs": [
    {
     "data": {
      "text/plain": [
       "0.9155394259320356"
      ]
     },
     "execution_count": 15,
     "metadata": {},
     "output_type": "execute_result"
    }
   ],
   "source": [
    "accuracy_score(y_test, y_pred)"
   ]
  }
 ],
 "metadata": {
  "kernelspec": {
   "display_name": "Python 3 (ipykernel)",
   "language": "python",
   "name": "python3"
  },
  "language_info": {
   "codemirror_mode": {
    "name": "ipython",
    "version": 3
   },
   "file_extension": ".py",
   "mimetype": "text/x-python",
   "name": "python",
   "nbconvert_exporter": "python",
   "pygments_lexer": "ipython3",
   "version": "3.9.7"
  }
 },
 "nbformat": 4,
 "nbformat_minor": 5
}
