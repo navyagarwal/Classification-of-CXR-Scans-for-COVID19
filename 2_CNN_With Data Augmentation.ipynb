{
 "cells": [
  {
   "cell_type": "markdown",
   "id": "2441dc06",
   "metadata": {},
   "source": [
    "## IMPORTING REQUIRED PACKAGES"
   ]
  },
  {
   "cell_type": "code",
   "execution_count": 1,
   "id": "6a825655",
   "metadata": {},
   "outputs": [],
   "source": [
    "import os\n",
    "import numpy as np\n",
    "import pandas as pd\n",
    "import matplotlib.pyplot as plt\n",
    "import cv2\n",
    "import tensorflow as tf\n",
    "from tensorflow.keras.models import Sequential, load_model\n",
    "from tensorflow.keras import regularizers\n",
    "from tensorflow.keras.layers import Conv2D, MaxPooling2D, Flatten, Dense, Dropout\n",
    "from tensorflow.keras.callbacks import EarlyStopping\n",
    "from tensorflow.keras.preprocessing.image import ImageDataGenerator\n",
    "from sklearn.model_selection import train_test_split\n",
    "from sklearn.metrics import confusion_matrix, accuracy_score\n",
    "import seaborn as sns"
   ]
  },
  {
   "cell_type": "markdown",
   "id": "c04ab0b3",
   "metadata": {},
   "source": [
    "## DATA LOADING AND PRE-PROCESSING"
   ]
  },
  {
   "cell_type": "code",
   "execution_count": 2,
   "id": "c8336523",
   "metadata": {},
   "outputs": [],
   "source": [
    "# path => address of folder with images\n",
    "# urls => list of names of images inside the folder\n",
    "# target => target label for images\n",
    "\n",
    "def loadImages(path, urls, target):\n",
    "    images = []\n",
    "    labels = []\n",
    "    for i in range(len(urls)):\n",
    "        img_path = path + urls[i]\n",
    "        img = cv2.imread(img_path)\n",
    "        img = img / 255.0   # normalisation of images\n",
    "        img = cv2.resize(img, (100, 100))  # to resize the images\n",
    "        images.append(img)\n",
    "        labels.append(target)\n",
    "    images = np.asarray(images)  # converting list to numpy array as it offers more functionality\n",
    "    return images, labels"
   ]
  },
  {
   "cell_type": "code",
   "execution_count": 3,
   "id": "c5747667",
   "metadata": {},
   "outputs": [],
   "source": [
    "covid_path = \"Covid-19_Radiography_Dataset\\\\COVID\\\\images\\\\\"\n",
    "covid_url = os.listdir(\"Covid-19_Radiography_Dataset\\\\COVID\\\\images\\\\\")\n",
    "covidImages, covidTargets = loadImages(covid_path, covid_url, 1)\n",
    "\n",
    "viral_path = \"Covid-19_Radiography_Dataset\\\\Viral Pneumonia\\\\images\\\\\"\n",
    "viral_url = os.listdir(\"Covid-19_Radiography_Dataset\\\\Viral Pneumonia\\\\images\\\\\")\n",
    "viralImages, viralTargets = loadImages(viral_path, viral_url, 2)\n",
    "\n",
    "normal_path = \"Covid-19_Radiography_Dataset\\\\Normal\\\\images\\\\\"\n",
    "normal_url = os.listdir(\"Covid-19_Radiography_Dataset\\\\Normal\\\\images\\\\\")\n",
    "normalImages, normalTargets = loadImages(normal_path, normal_url, 0)"
   ]
  },
  {
   "cell_type": "code",
   "execution_count": 4,
   "id": "4ae6c3d0",
   "metadata": {},
   "outputs": [
    {
     "data": {
      "text/plain": [
       "((15153, 100, 100, 3), (15153,))"
      ]
     },
     "execution_count": 4,
     "metadata": {},
     "output_type": "execute_result"
    }
   ],
   "source": [
    "data = np.r_[covidImages, viralImages, normalImages]\n",
    "\n",
    "targets = np.r_[covidTargets, viralTargets, normalTargets]\n",
    "\n",
    "data.shape, targets.shape"
   ]
  },
  {
   "cell_type": "code",
   "execution_count": 5,
   "id": "cffa0d4e",
   "metadata": {},
   "outputs": [],
   "source": [
    "x_train, x_test, y_train, y_test = train_test_split(data, targets, test_size = 0.2)\n",
    "x_train, x_val, y_train, y_val = train_test_split(x_train, y_train, test_size = 0.125)"
   ]
  },
  {
   "cell_type": "code",
   "execution_count": 6,
   "id": "e97aa447",
   "metadata": {},
   "outputs": [
    {
     "data": {
      "text/plain": [
       "((10606, 100, 100, 3), (3031, 100, 100, 3), (1516, 100, 100, 3))"
      ]
     },
     "execution_count": 6,
     "metadata": {},
     "output_type": "execute_result"
    }
   ],
   "source": [
    "x_train.shape, x_test.shape, x_val.shape"
   ]
  },
  {
   "cell_type": "code",
   "execution_count": 7,
   "id": "c411d6c7",
   "metadata": {},
   "outputs": [],
   "source": [
    "datagen = ImageDataGenerator()\n",
    "\n",
    "iter = datagen.flow(x_train, y_train)"
   ]
  },
  {
   "cell_type": "markdown",
   "id": "b83ec580",
   "metadata": {},
   "source": [
    "## BUILDING A MODEL"
   ]
  },
  {
   "cell_type": "code",
   "execution_count": 8,
   "id": "3c823c89",
   "metadata": {},
   "outputs": [],
   "source": [
    "model = Sequential([\n",
    "    Conv2D(32, (3, 3), input_shape=(100, 100, 3), activation = 'relu', kernel_regularizer=regularizers.l2(l=0.01), kernel_initializer='he_normal'),\n",
    "    MaxPooling2D(),\n",
    "    Dropout(0.4),\n",
    "    Conv2D(16, (3, 3), activation = 'relu', kernel_regularizer=regularizers.l2(l=0.01)),\n",
    "    MaxPooling2D(),\n",
    "    Dropout(0.4),\n",
    "    Conv2D(16, (3, 3), activation = 'relu', kernel_regularizer=regularizers.l2(l=0.01)),\n",
    "    MaxPooling2D(),\n",
    "    Dropout(0.2),\n",
    "    Flatten(),\n",
    "    Dense(512, activation = 'relu'),\n",
    "    Dense(256, activation = 'relu'),\n",
    "    Dense(3, activation = 'softmax')\n",
    "])"
   ]
  },
  {
   "cell_type": "code",
   "execution_count": 9,
   "id": "fee2bace",
   "metadata": {},
   "outputs": [
    {
     "name": "stdout",
     "output_type": "stream",
     "text": [
      "Model: \"sequential\"\n",
      "_________________________________________________________________\n",
      " Layer (type)                Output Shape              Param #   \n",
      "=================================================================\n",
      " conv2d (Conv2D)             (None, 98, 98, 32)        896       \n",
      "                                                                 \n",
      " max_pooling2d (MaxPooling2D  (None, 49, 49, 32)       0         \n",
      " )                                                               \n",
      "                                                                 \n",
      " dropout (Dropout)           (None, 49, 49, 32)        0         \n",
      "                                                                 \n",
      " conv2d_1 (Conv2D)           (None, 47, 47, 16)        4624      \n",
      "                                                                 \n",
      " max_pooling2d_1 (MaxPooling  (None, 23, 23, 16)       0         \n",
      " 2D)                                                             \n",
      "                                                                 \n",
      " dropout_1 (Dropout)         (None, 23, 23, 16)        0         \n",
      "                                                                 \n",
      " conv2d_2 (Conv2D)           (None, 21, 21, 16)        2320      \n",
      "                                                                 \n",
      " max_pooling2d_2 (MaxPooling  (None, 10, 10, 16)       0         \n",
      " 2D)                                                             \n",
      "                                                                 \n",
      " dropout_2 (Dropout)         (None, 10, 10, 16)        0         \n",
      "                                                                 \n",
      " flatten (Flatten)           (None, 1600)              0         \n",
      "                                                                 \n",
      " dense (Dense)               (None, 512)               819712    \n",
      "                                                                 \n",
      " dense_1 (Dense)             (None, 256)               131328    \n",
      "                                                                 \n",
      " dense_2 (Dense)             (None, 3)                 771       \n",
      "                                                                 \n",
      "=================================================================\n",
      "Total params: 959,651\n",
      "Trainable params: 959,651\n",
      "Non-trainable params: 0\n",
      "_________________________________________________________________\n"
     ]
    }
   ],
   "source": [
    "model.summary()"
   ]
  },
  {
   "cell_type": "code",
   "execution_count": 10,
   "id": "fb69273b",
   "metadata": {},
   "outputs": [],
   "source": [
    "model.compile(optimizer = 'adam', loss = tf.keras.losses.SparseCategoricalCrossentropy() , metrics = ['accuracy'])"
   ]
  },
  {
   "cell_type": "markdown",
   "id": "a36e80a6",
   "metadata": {},
   "source": [
    "## TRAINING THE MODEL"
   ]
  },
  {
   "cell_type": "code",
   "execution_count": 11,
   "id": "b55ef0f0",
   "metadata": {},
   "outputs": [
    {
     "name": "stdout",
     "output_type": "stream",
     "text": [
      "Epoch 1/50\n",
      "332/332 [==============================] - 74s 218ms/step - loss: 1.2668 - accuracy: 0.7109 - val_loss: 1.0467 - val_accuracy: 0.7447\n",
      "Epoch 2/50\n",
      "332/332 [==============================] - 61s 183ms/step - loss: 0.7454 - accuracy: 0.7950 - val_loss: 0.7496 - val_accuracy: 0.7968\n",
      "Epoch 3/50\n",
      "332/332 [==============================] - 61s 183ms/step - loss: 0.5648 - accuracy: 0.8306 - val_loss: 0.6585 - val_accuracy: 0.7836\n",
      "Epoch 4/50\n",
      "332/332 [==============================] - 60s 179ms/step - loss: 0.4809 - accuracy: 0.8508 - val_loss: 0.6126 - val_accuracy: 0.7645\n",
      "Epoch 5/50\n",
      "332/332 [==============================] - 64s 192ms/step - loss: 0.4140 - accuracy: 0.8706 - val_loss: 0.3897 - val_accuracy: 0.8872\n",
      "Epoch 6/50\n",
      "332/332 [==============================] - 61s 183ms/step - loss: 0.3718 - accuracy: 0.8866 - val_loss: 0.3690 - val_accuracy: 0.8925\n",
      "Epoch 7/50\n",
      "332/332 [==============================] - 65s 195ms/step - loss: 0.3414 - accuracy: 0.8906 - val_loss: 0.3472 - val_accuracy: 0.8912\n",
      "Epoch 8/50\n",
      "332/332 [==============================] - 75s 225ms/step - loss: 0.3120 - accuracy: 0.9042 - val_loss: 0.4696 - val_accuracy: 0.8331\n",
      "Epoch 9/50\n",
      "332/332 [==============================] - 74s 224ms/step - loss: 0.2976 - accuracy: 0.9071 - val_loss: 0.3081 - val_accuracy: 0.9063\n",
      "Epoch 10/50\n",
      "332/332 [==============================] - 130s 393ms/step - loss: 0.3105 - accuracy: 0.9018 - val_loss: 0.3386 - val_accuracy: 0.8931\n",
      "Epoch 11/50\n",
      "332/332 [==============================] - 190s 570ms/step - loss: 0.2722 - accuracy: 0.9169 - val_loss: 0.4177 - val_accuracy: 0.8522\n",
      "Epoch 12/50\n",
      "332/332 [==============================] - 160s 482ms/step - loss: 0.2605 - accuracy: 0.9224 - val_loss: 0.2497 - val_accuracy: 0.9235\n",
      "Epoch 13/50\n",
      "332/332 [==============================] - 133s 401ms/step - loss: 0.2528 - accuracy: 0.9229 - val_loss: 0.2979 - val_accuracy: 0.9037\n",
      "Epoch 14/50\n",
      "332/332 [==============================] - 76s 230ms/step - loss: 0.2436 - accuracy: 0.9262 - val_loss: 0.3911 - val_accuracy: 0.8648\n",
      "Epoch 15/50\n",
      "332/332 [==============================] - 89s 269ms/step - loss: 0.2343 - accuracy: 0.9315 - val_loss: 0.2746 - val_accuracy: 0.9103\n",
      "Epoch 15: early stopping\n"
     ]
    },
    {
     "data": {
      "text/plain": [
       "<keras.callbacks.History at 0x284946a1a00>"
      ]
     },
     "execution_count": 11,
     "metadata": {},
     "output_type": "execute_result"
    }
   ],
   "source": [
    "callback = tf.keras.callbacks.EarlyStopping(monitor = 'val_loss', mode = 'min', verbose = 1, patience = 3)\n",
    "\n",
    "model.fit(iter, batch_size = 64, epochs = 50, validation_data = (x_val, y_val), callbacks = [callback])"
   ]
  },
  {
   "cell_type": "code",
   "execution_count": 12,
   "id": "174ad095",
   "metadata": {},
   "outputs": [],
   "source": [
    "model.save(\"Covid19_CNN_2.h5\")"
   ]
  },
  {
   "cell_type": "markdown",
   "id": "f20fa15a",
   "metadata": {},
   "source": [
    "## ACCURACY & LOSS FOR MODEL"
   ]
  },
  {
   "cell_type": "code",
   "execution_count": 13,
   "id": "3fa9f945",
   "metadata": {},
   "outputs": [
    {
     "data": {
      "image/png": "[encoded data removed]",
      "text/plain": [
       "<Figure size 432x288 with 1 Axes>"
      ]
     },
     "metadata": {
      "needs_background": "light"
     },
     "output_type": "display_data"
    }
   ],
   "source": [
    "plt.plot(model.history.history['accuracy'], label = 'train_accuracy')\n",
    "plt.plot(model.history.history['val_accuracy'], label = 'val_accuracy')\n",
    "plt.legend()\n",
    "plt.show()"
   ]
  },
  {
   "cell_type": "code",
   "execution_count": 14,
   "id": "fc9ea4fc",
   "metadata": {},
   "outputs": [
    {
     "data": {
      "image/png": "[encoded data removed]",
      "text/plain": [
       "<Figure size 432x288 with 1 Axes>"
      ]
     },
     "metadata": {
      "needs_background": "light"
     },
     "output_type": "display_data"
    }
   ],
   "source": [
    "plt.plot(model.history.history['loss'], label = 'train_loss')\n",
    "plt.plot(model.history.history['val_loss'], label = 'val_loss')\n",
    "plt.legend()\n",
    "plt.show()"
   ]
  },
  {
   "cell_type": "markdown",
   "id": "79e4d76f",
   "metadata": {},
   "source": [
    "## TESTING THE MODEL"
   ]
  },
  {
   "cell_type": "code",
   "execution_count": 15,
   "id": "273369b5",
   "metadata": {},
   "outputs": [],
   "source": [
    "rerun_model = load_model(\"Covid19_CNN_2.h5\")"
   ]
  },
  {
   "cell_type": "code",
   "execution_count": 16,
   "id": "db6483cf",
   "metadata": {},
   "outputs": [
    {
     "name": "stdout",
     "output_type": "stream",
     "text": [
      "95/95 [==============================] - 7s 69ms/step\n"
     ]
    }
   ],
   "source": [
    "y_pred = rerun_model.predict(x_test)\n",
    "y_pred = np.argmax(y_pred, axis=-1)"
   ]
  },
  {
   "cell_type": "code",
   "execution_count": 17,
   "id": "a37cc377",
   "metadata": {},
   "outputs": [],
   "source": [
    "cm = confusion_matrix(y_test, y_pred)\n",
    "\n",
    "cm_df = pd.DataFrame(cm,\n",
    "                     index = ['Normal','COVID','Viral Pneumonia'], \n",
    "                     columns = ['Normal','COVID','Viral Pneumonia'])"
   ]
  },
  {
   "cell_type": "code",
   "execution_count": 18,
   "id": "56bec621",
   "metadata": {},
   "outputs": [
    {
     "data": {
      "image/png": "[encoded data removed]",
      "text/plain": [
       "<Figure size 360x288 with 2 Axes>"
      ]
     },
     "metadata": {
      "needs_background": "light"
     },
     "output_type": "display_data"
    }
   ],
   "source": [
    "plt.figure(figsize=(5,4))\n",
    "sns.heatmap(cm_df, annot=True, cmap=\"OrRd\", fmt='g')\n",
    "plt.title('Confusion Matrix')\n",
    "plt.ylabel('Actual Values')\n",
    "plt.xlabel('Predicted Values')\n",
    "plt.show()"
   ]
  },
  {
   "cell_type": "code",
   "execution_count": 19,
   "id": "cd907e5b",
   "metadata": {},
   "outputs": [
    {
     "data": {
      "text/plain": [
       "0.9138898053447707"
      ]
     },
     "execution_count": 19,
     "metadata": {},
     "output_type": "execute_result"
    }
   ],
   "source": [
    "accuracy_score(y_test, y_pred)"
   ]
  }
 ],
 "metadata": {
  "kernelspec": {
   "display_name": "Python 3 (ipykernel)",
   "language": "python",
   "name": "python3"
  },
  "language_info": {
   "codemirror_mode": {
    "name": "ipython",
    "version": 3
   },
   "file_extension": ".py",
   "mimetype": "text/x-python",
   "name": "python",
   "nbconvert_exporter": "python",
   "pygments_lexer": "ipython3",
   "version": "3.9.7"
  }
 },
 "nbformat": 4,
 "nbformat_minor": 5
}
